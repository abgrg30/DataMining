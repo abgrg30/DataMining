{
 "cells": [
  {
   "cell_type": "code",
   "execution_count": null,
   "metadata": {
    "collapsed": true
   },
   "outputs": [],
   "source": [
    "# Name: ABHINAV GARG\n",
    "# Email: abgarg@ucsd.edu\n",
    "# PID: A53095668\n",
    "from pyspark import SparkContext\n",
    "sc = SparkContext()\n",
    "# Your program here"
   ]
  },
  {
   "cell_type": "code",
   "execution_count": 6,
   "metadata": {
    "collapsed": false,
    "slideshow": {
     "slide_type": "slide"
    }
   },
   "outputs": [],
   "source": [
    "from pyspark.mllib.linalg import Vectors\n",
    "from pyspark.mllib.regression import LabeledPoint\n",
    "from string import split,strip\n",
    "from pyspark.mllib.tree import GradientBoostedTrees, GradientBoostedTreesModel\n",
    "from pyspark.mllib.tree import RandomForest, RandomForestModel\n",
    "from pyspark.mllib.util import MLUtils"
   ]
  },
  {
   "cell_type": "code",
   "execution_count": 7,
   "metadata": {
    "collapsed": false,
    "slideshow": {
     "slide_type": "fragment"
    }
   },
   "outputs": [],
   "source": [
    "# Read the file into an RDD\n",
    "# If doing this on a real cluster, you need the file to be available on all nodes, ideally in HDFS.\n",
    "path='/covtype/covtype.data'\n",
    "inputRDD=sc.textFile(path)"
   ]
  },
  {
   "cell_type": "code",
   "execution_count": 8,
   "metadata": {
    "collapsed": true,
    "slideshow": {
     "slide_type": "fragment"
    }
   },
   "outputs": [],
   "source": [
    "Label=2.0\n",
    "Data=inputRDD.map(lambda line: [float(x) for x in line.split(',')])\\\n",
    "    .map(lambda V:LabeledPoint(1 if V[-1]==Label else 0, V[:-1]))"
   ]
  },
  {
   "cell_type": "code",
   "execution_count": 9,
   "metadata": {
    "collapsed": false,
    "slideshow": {
     "slide_type": "fragment"
    }
   },
   "outputs": [],
   "source": [
    "Data.cache()\n",
    "(trainingData,testData)=Data.randomSplit([0.7,0.3], seed=255)"
   ]
  },
  {
   "cell_type": "code",
   "execution_count": null,
   "metadata": {
    "collapsed": true
   },
   "outputs": [],
   "source": [
    "depth=10\n",
    "d = dict()\n",
    "for i in xrange(10,54):\n",
    "    d[i] = 2\n",
    "model=GradientBoostedTrees.trainClassifier(trainingData,categoricalFeaturesInfo=d,\\\n",
    "                                           numIterations=10,learningRate=0.5,maxDepth=depth)\n",
    "errors={}\n",
    "errors[depth]={}\n",
    "dataSets={'train':trainingData,'test':testData}\n",
    "for name in dataSets.keys():  # Calculate errors on train and test sets\n",
    "    data=dataSets[name]\n",
    "    Predicted=model.predict(data.map(lambda x: x.features))\n",
    "    LabelsAndPredictions=data.map(lambda x : x.label).zip(Predicted)\n",
    "    Err = LabelsAndPredictions.filter(lambda (v,p):v != p).count()/float(data.count())\n",
    "    errors[depth][name]=Err\n",
    "print depth,errors[depth]"
   ]
  }
 ],
 "metadata": {
  "celltoolbar": "Slideshow",
  "kernelspec": {
   "display_name": "Python 2",
   "language": "python",
   "name": "python2"
  },
  "language_info": {
   "codemirror_mode": {
    "name": "ipython",
    "version": 2
   },
   "file_extension": ".py",
   "mimetype": "text/x-python",
   "name": "python",
   "nbconvert_exporter": "python",
   "pygments_lexer": "ipython2",
   "version": "2.7.11"
  }
 },
 "nbformat": 4,
 "nbformat_minor": 0
}
